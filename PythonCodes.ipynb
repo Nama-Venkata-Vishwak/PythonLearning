{
  "cells": [
    {
      "cell_type": "markdown",
      "source": [
        "Welcome to Pyhton"
      ],
      "metadata": {
        "id": "vMTQ3oEKywtV"
      }
    },
    {
      "cell_type": "code",
      "execution_count": null,
      "metadata": {
        "id": "mctpGUGax20x",
        "outputId": "f9b30a44-9073-474f-82dc-8a6c29d0d19d",
        "colab": {
          "base_uri": "https://localhost:8080/"
        }
      },
      "outputs": [
        {
          "output_type": "stream",
          "name": "stdout",
          "text": [
            "7\n"
          ]
        }
      ],
      "source": [
        "print(1+2*3)"
      ]
    },
    {
      "cell_type": "markdown",
      "source": [
        "Python is an interpreted, object-oriented, high-level programming language"
      ],
      "metadata": {
        "id": "iBU5DCH-59ie"
      }
    },
    {
      "cell_type": "code",
      "source": [
        "a=1\n",
        "b=2\n",
        "print(a+b)"
      ],
      "metadata": {
        "id": "u9K_NWv17Y_r",
        "outputId": "072a266a-c47e-4dc3-9082-a593477565c1",
        "colab": {
          "base_uri": "https://localhost:8080/"
        }
      },
      "execution_count": 4,
      "outputs": [
        {
          "output_type": "stream",
          "name": "stdout",
          "text": [
            "3\n"
          ]
        }
      ]
    }
  ],
  "metadata": {
    "kernelspec": {
      "display_name": "Python 3",
      "language": "python",
      "name": "python3"
    },
    "language_info": {
      "codemirror_mode": {
        "name": "ipython",
        "version": 3
      },
      "file_extension": ".py",
      "mimetype": "text/x-python",
      "name": "python",
      "nbconvert_exporter": "python",
      "pygments_lexer": "ipython3",
      "version": "3.7.6"
    },
    "colab": {
      "provenance": []
    }
  },
  "nbformat": 4,
  "nbformat_minor": 0
}