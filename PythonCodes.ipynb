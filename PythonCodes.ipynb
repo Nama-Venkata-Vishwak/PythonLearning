{
  "cells": [
    {
      "cell_type": "markdown",
      "source": [
        "#Learning Python\n"
      ],
      "metadata": {
        "id": "cG05ZUJJ9H8m"
      }
    },
    {
      "cell_type": "code",
      "source": [
        "print(\"Jai Shree Krishna!!, Welcome to Python\")\n",
        "#This is a print Statement to print anything"
      ],
      "metadata": {
        "id": "tRCb9AeU8d93",
        "outputId": "76ea4276-cad5-428a-b9d3-1a62444e510d",
        "colab": {
          "base_uri": "https://localhost:8080/"
        }
      },
      "execution_count": 5,
      "outputs": [
        {
          "output_type": "stream",
          "name": "stdout",
          "text": [
            "Jai Shree Krishna!!, Welcome to Python\n"
          ]
        }
      ]
    },
    {
      "cell_type": "markdown",
      "source": [
        "##Variables"
      ],
      "metadata": {
        "id": "0hXaJlW49QFd"
      }
    },
    {
      "cell_type": "markdown",
      "source": [
        "Variables are containers for storing data values.<br>\n",
        "Python has no command for declaring a variable.<br>\n",
        "A variable is created the moment you first assign a value to it.\n"
      ],
      "metadata": {
        "id": "BfzVQdUM9cBd"
      }
    },
    {
      "cell_type": "code",
      "source": [
        "# Vishwak Nama\n",
        "# 2001\n",
        "# Name of the User is :  Vishwak Nama\n",
        "# Year of Birth is :  2001"
      ],
      "metadata": {
        "id": "P8cjX_XU9Ag2"
      },
      "execution_count": 8,
      "outputs": []
    },
    {
      "cell_type": "code",
      "source": [
        "#Task 1 : Similar to above declare and print (name, mobileNo, city, gender)"
      ],
      "metadata": {
        "id": "gcYC2a6x-gCz"
      },
      "execution_count": 10,
      "outputs": []
    },
    {
      "cell_type": "code",
      "source": [
        "#Ask for Input and Print"
      ],
      "metadata": {
        "id": "0s4_eW68AZiG"
      },
      "execution_count": 11,
      "outputs": []
    },
    {
      "cell_type": "markdown",
      "source": [
        "##Data Types"
      ],
      "metadata": {
        "id": "t7uLTghjAIkW"
      }
    },
    {
      "cell_type": "markdown",
      "source": [
        "<b>Set 1</b><br>\n",
        "Text Type:\tstr <br>\n",
        "Boolean Type:\tbool <br>\n",
        "Numeric Types:\tint, float <br>\n",
        "<hr>\n",
        "<b>Set 2</b><br>\n",
        "Sequence Types:\tlist, tuple, range<br>\n",
        "Mapping Type:\tdict<br>\n",
        "Set Types:\tset<br>\n",
        "<hr>\n",
        "<b>Set 3</b><br>\n",
        "Binary Types:\tbytes, bytearray, memoryview<br>\n",
        "None Type:\tNoneType<br>\n",
        "Numeric Types:\tcomplex<br>\n",
        "Set Types:\tfrozenset"
      ],
      "metadata": {
        "id": "QBetCYFD-9v7"
      }
    },
    {
      "cell_type": "code",
      "source": [],
      "metadata": {
        "id": "vD7IvrjCACtH"
      },
      "execution_count": null,
      "outputs": []
    },
    {
      "cell_type": "markdown",
      "source": [
        "##"
      ],
      "metadata": {
        "id": "WS9h7MLRAWMu"
      }
    }
  ],
  "metadata": {
    "kernelspec": {
      "display_name": "Python 3",
      "language": "python",
      "name": "python3"
    },
    "language_info": {
      "codemirror_mode": {
        "name": "ipython",
        "version": 3
      },
      "file_extension": ".py",
      "mimetype": "text/x-python",
      "name": "python",
      "nbconvert_exporter": "python",
      "pygments_lexer": "ipython3",
      "version": "3.7.6"
    },
    "colab": {
      "provenance": []
    }
  },
  "nbformat": 4,
  "nbformat_minor": 0
}